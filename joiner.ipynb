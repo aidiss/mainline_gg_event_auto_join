{
 "cells": [
  {
   "cell_type": "code",
   "execution_count": 2,
   "metadata": {},
   "outputs": [],
   "source": [
    "from selenium.webdriver import Chrome\n",
    "import time\n",
    "\n",
    "driver = Chrome()\n",
    "driver.get('https://play.mainline.gg/')\n",
    "\n",
    "max_tries = 10"
   ]
  },
  {
   "cell_type": "code",
   "execution_count": null,
   "metadata": {},
   "outputs": [],
   "source": [
    "def wait_till_second_left():\n",
    "    \"\"\"\n",
    "    2 minutes\n",
    "    a minute\n",
    "    a few seconds\n",
    "    Started a few seconds ago\"\"\"\n",
    "    for i in range(10):\n",
    "    minutes_left = driver.find_element_by_xpath('//span[@class=\"moment-countdown\"]').text\n",
    "    time.sleep(30)\n",
    "    if \"a minute\" in minutes_left:\n",
    "        return True"
   ]
  },
  {
   "cell_type": "code",
   "execution_count": null,
   "metadata": {},
   "outputs": [],
   "source": [
    "def get_event_page_and_follow(match_id, max_tries):\n",
    "    xpath = '//div[@data-key=\"%s\"]/div[@class=\"match animate\"]' % match_id\n",
    "    for i in range(max_tries):\n",
    "        driver.refresh()\n",
    "        results = driver.find_elements_by_xpath(xpath)\n",
    "        if results:\n",
    "            match = results[0]\n",
    "            match.click()\n",
    "            return True\n",
    "    return False"
   ]
  },
  {
   "cell_type": "code",
   "execution_count": 116,
   "metadata": {},
   "outputs": [],
   "source": [
    "def get_current_max():\n",
    "    xpath = '//div[@class=\"matches\"]/div/div'\n",
    "    matches = [x.get_attribute('data-key') \n",
    "               for x in driver.find_elements_by_xpath(xpath)]\n",
    "    matches = [int(x) for x in matches if x]\n",
    "    current_max = max(matches)\n",
    "    return current_max\n",
    "\n",
    "def get_event_page_and_follow(match_id, max_tries):\n",
    "    xpath = '//div[@data-key=\"%s\"]/div[@class=\"match animate\"]' % match_id\n",
    "    for i in range(max_tries):\n",
    "        driver.refresh()\n",
    "        results = driver.find_elements_by_xpath(xpath)\n",
    "        if results:\n",
    "            match = results[0]\n",
    "            match.click()\n",
    "            return True\n",
    "    return False\n",
    "\n",
    "def follow_xpath(xpath):\n",
    "    results = driver.find_elements_by_xpath(xpath)\n",
    "    submit_button = results[0]\n",
    "    submit_button.click()\n"
   ]
  },
  {
   "cell_type": "code",
   "execution_count": null,
   "metadata": {},
   "outputs": [],
   "source": [
    "driver.refresh()\n",
    "match_id = get_current_max()\n",
    "if get_event_page_and_follow(match_id=match_id, max_tries=max_tries):\n",
    "    follow_xpath('//a[@class=\"button join-button\"]')\n",
    "    follow_xpath('//div[@id=\"eventteamselectform-team_id\"]')\n",
    "    follow_xpath('//button[@type=\"submit\"]')"
   ]
  }
 ],
 "metadata": {
  "kernelspec": {
   "display_name": "Python 3",
   "language": "python",
   "name": "python3"
  },
  "language_info": {
   "codemirror_mode": {
    "name": "ipython",
    "version": 3
   },
   "file_extension": ".py",
   "mimetype": "text/x-python",
   "name": "python",
   "nbconvert_exporter": "python",
   "pygments_lexer": "ipython3",
   "version": "3.6.4"
  }
 },
 "nbformat": 4,
 "nbformat_minor": 2
}
